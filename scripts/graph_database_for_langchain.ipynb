{
 "cells": [
  {
   "cell_type": "code",
   "execution_count": 56,
   "metadata": {},
   "outputs": [
    {
     "data": {
      "text/plain": [
       "True"
      ]
     },
     "execution_count": 56,
     "metadata": {},
     "output_type": "execute_result"
    }
   ],
   "source": [
    "from neo4j import GraphDatabase\n",
    "import os\n",
    "from dotenv import load_dotenv\n",
    "import pandas as pd\n",
    "load_dotenv(\"./.env\", override=True)"
   ]
  },
  {
   "cell_type": "markdown",
   "metadata": {},
   "source": [
    "## Generate syntatic data using openAI and anthropic "
   ]
  },
  {
   "cell_type": "code",
   "execution_count": 57,
   "metadata": {},
   "outputs": [],
   "source": [
    "openai_reviews_text = \"\"\"\n",
    "### Review 1\n",
    "Langchain is great for quick demos and experimentation. Its support for specific use cases like using quantized models with llama cpp is a plus. However, the documentation is horrendous, making it difficult to understand the framework.\n",
    "\n",
    "### Review 2\n",
    "While Langchain provides useful abstractions for specific use cases, its performance is slow and resource-intensive. Simple tasks take longer than they should, which is a significant drawback.\n",
    "\n",
    "### Review 3\n",
    "Langchain allows for easy switching between components like vector datastores or embeddings, making prototyping easy. But its unnecessary abstractions make simple tasks overly complex.\n",
    "\n",
    "### Review 4\n",
    "Great for beginners, Langchain helps newcomers get started with LLMs. However, the high-level abstractions add complexity, making it less suitable for production applications.\n",
    "\n",
    "### Review 5\n",
    "Prolego advises against using Langchain for most teams due to its constant flux and lack of standards. They recommend building your own interfaces instead of relying on a third-party framework.\n",
    "\n",
    "### Review 6\n",
    "Langchain is useful for proof of concepts, enabling quick builds with minimal lines of code. However, it is over-engineered and not intuitive, with poor documentation adding to the complexity.\n",
    "\n",
    "### Review 7\n",
    "Langchain's abstractions for specific use cases are beneficial. However, the inconsistent behavior of methods like `.call()`, `.invoke()`, and `.run()` is confusing and inefficient.\n",
    "\n",
    "### Review 8\n",
    "Despite its ease of switching components, Langchain is not suitable for production applications. It introduces unnecessary abstractions and indirection, complicating simple tasks.\n",
    "\n",
    "### Review 9\n",
    "Langchain is good for quick prototypes, allowing developers to get started with LLMs without deep expertise. However, the documentation is lacking, making it hard to find necessary information.\n",
    "\n",
    "### Review 10\n",
    "Users appreciate Langchain's ability to swap components easily, but the high-level abstractions lead to a lack of control and added complexity, making it less practical for production.\n",
    "\n",
    "### Review 11\n",
    "Langchain is beneficial for quick demos, especially with support for quantized models like llama cpp. However, performance issues and slow, resource-intensive tasks are significant drawbacks.\n",
    "\n",
    "### Review 12\n",
    "Prolego suggests reviewing open-source code and learning from thought leaders instead of using Langchain. Building custom interfaces to LLMs is easier and more stable than dealing with Langchain's constant updates.\n",
    "\n",
    "### Review 13\n",
    "Langchain is great for proof of concepts with minimal lines of code. However, the framework is over-engineered, with poor documentation and non-intuitive integrations.\n",
    "\n",
    "### Review 14\n",
    "Good for beginners, Langchain provides a quick start with its extensive Python library. However, its high-level abstractions often lead to added complexity and control issues in production environments.\n",
    "\n",
    "### Review 15\n",
    "While Langchain's abstractions support specific use cases, its documentation is horrendous and often incorrect, making it difficult to understand and use the framework effectively.\n",
    "\n",
    "### Review 16\n",
    "Langchain's performance is slow and resource-intensive, making simple tasks take longer than necessary. The framework is not recommended for production applications due to its inefficiency.\n",
    "\n",
    "### Review 17\n",
    "Langchain allows easy swapping of components like vector databases and memory solutions, which is great for experimentation. However, unnecessary abstractions complicate simple tasks.\n",
    "\n",
    "### Review 18\n",
    "Prolego advises against using Langchain for most development teams. Instead, they recommend building custom interfaces to LLMs for easier and more stable solutions.\n",
    "\n",
    "### Review 19\n",
    "Langchain is useful for quick prototypes, enabling developers to get started with LLMs without deep expertise. However, the rapid pace of updates makes it hard to maintain compatibility.\n",
    "\n",
    "### Review 20\n",
    "Langchain's documentation is not comprehensive enough, requiring users to dig into the source code to understand the framework. This adds to the complexity and reduces its suitability for production.\n",
    "\n",
    "### Review 21\n",
    "Despite being great for quick demos, Langchain's inconsistent abstractions and behavior are confusing and inefficient, with methods accepting inputs in inconsistent ways.\n",
    "\n",
    "### Review 22\n",
    "Langchain is good for learning and prototyping, allowing for quick experimentation. However, its unnecessary abstractions and indirection make simple tasks more complex.\n",
    "\n",
    "### Review 23\n",
    "Prolego recommends against using Langchain, advising teams to review open-source code and build custom interfaces for better stability and control.\n",
    "\n",
    "### Review 24\n",
    "Langchain is useful for proof of concepts, allowing quick builds with minimal lines of code. However, it is over-engineered with too many integrations, making it not developer-friendly.\n",
    "\n",
    "### Review 25\n",
    "Langchain provides a quick start for beginners with its extensive Python library. However, the high-level abstractions lead to a lack of control and added complexity in production environments.\n",
    "\n",
    "### Review 26\n",
    "While Langchain's abstractions support specific use cases, its documentation is horrendous, making it difficult to find necessary information and understand the framework.\n",
    "\n",
    "### Review 27\n",
    "Langchain's performance issues make it slow and resource-intensive, with simple tasks taking longer than necessary. This inefficiency makes it unsuitable for production applications.\n",
    "\n",
    "### Review 28\n",
    "Langchain allows easy swapping of components like vector databases and memory solutions, which is great for experimentation. However, unnecessary abstractions complicate simple tasks.\n",
    "\n",
    "### Review 29\n",
    "Prolego advises against using Langchain for most development teams. They suggest building custom interfaces to LLMs for easier and more stable solutions.\n",
    "\n",
    "### Review 30\n",
    "Langchain is useful for quick prototypes, enabling developers to get started with LLMs without deep expertise. However, the rapid pace of updates makes it hard to maintain compatibility.\"\"\""
   ]
  },
  {
   "cell_type": "code",
   "execution_count": 58,
   "metadata": {},
   "outputs": [],
   "source": [
    "import re\n",
    "review_list = re.split(r\"### Review \\d+\\n\", openai_reviews_text)\n",
    "review_list = [review.strip() for review in review_list if review.strip()]"
   ]
  },
  {
   "cell_type": "code",
   "execution_count": 59,
   "metadata": {},
   "outputs": [],
   "source": [
    "calude_review_text= \"\"\"\n",
    "1. \"Langchain is great for quick demos and experimentation, especially when working with quantized models using llama cpp. However, the documentation is horrendous, making it hard to navigate and understand the framework.\"\n",
    "\n",
    "2. \"While Langchain offers useful abstractions for specific use cases, its performance issues are a major drawback. Simple tasks take longer than they should, which is frustrating for developers.\"\n",
    "\n",
    "3. \"I found Langchain to be a double-edged sword. It's good for prototyping, but the inconsistent abstractions and behavior make it challenging to use efficiently. The different methods like .call(), .invoke(), and .run() accept inputs in confusing ways.\"\n",
    "\n",
    "4. \"As a beginner in AI development, I appreciated Langchain's extensive Python library. It provided a quick start, but I wouldn't recommend it for production due to its complexity and inefficiency.\"\n",
    "\n",
    "5. \"Langchain's ability to easily switch between components like vector datastores or embeddings is impressive. However, the poor documentation and lack of customizability make it difficult to fully utilize these features.\"\n",
    "\n",
    "6. \"The rapid pace of updates in Langchain is problematic. It's hard to keep up with changes and maintain compatibility, which is crucial for long-term projects.\"\n",
    "\n",
    "7. \"I initially liked Langchain for its abstractions, but I soon realized they often introduce unnecessary complexity. Simple tasks become overly complicated, which is counterproductive.\"\n",
    "\n",
    "8. \"Langchain's documentation is outright wrong in many aspects. This is a major issue when trying to understand and implement the framework effectively.\"\n",
    "\n",
    "9. \"While Langchain is useful for learning and quick prototypes, it falls short for real production systems. I found myself preferring to code LLM workflows directly for better control and efficiency.\"\n",
    "\n",
    "10. \"The ease of switching components in Langchain is a plus, but the overall performance issues and resource-intensive nature make it less appealing for serious development.\"\n",
    "\n",
    "11. \"Langchain's high-level abstractions often lead to a lack of control, which is frustrating when you need to fine-tune your application.\"\n",
    "\n",
    "12. \"I appreciate Langchain's support for specific use cases, but the inconsistent behavior across different methods makes it hard to develop with confidence.\"\n",
    "\n",
    "13. \"For newcomers to AI development, Langchain provides a quick start. However, as you progress, you'll likely find yourself fighting against its abstractions rather than benefiting from them.\"\n",
    "\n",
    "14. \"Langchain's documentation issues are a significant barrier. I often had to dig into the source code to understand how to use the framework effectively, which is time-consuming.\"\n",
    "\n",
    "15. \"While Langchain makes it easy to swap components like vector databases and memory solutions, the added complexity doesn't justify its use in production environments.\"\n",
    "\n",
    "16. \"I found Langchain to be over-engineered with too many integrations and boilerplate code. It's not as developer-friendly as it claims to be.\"\n",
    "\n",
    "17. \"Langchain is great for building proof of concepts quickly with minimal lines of code. However, it falls short when you need to customize fundamental aspects like prompts.\"\n",
    "\n",
    "18. \"The constant flux of Langchain and the lack of established standards in the LLM space make it a risky choice for most development teams.\"\n",
    "\n",
    "19. \"Instead of relying on Langchain, I found it more beneficial to review open-source code and learn from thought leaders in the field. This approach gave me more control and understanding.\"\n",
    "\n",
    "20. \"Building custom interfaces to LLMs proved to be easier and more stable than dealing with Langchain's rapidly evolving framework.\"\n",
    "\n",
    "21. \"Langchain's abstractions are a double-edged sword. They're helpful for specific use cases but can be a hindrance when you need more flexibility.\"\n",
    "\n",
    "22. \"The inefficiency of Langchain is a major concern. What should be simple operations often require more resources and time than necessary.\"\n",
    "\n",
    "23. \"While Langchain is good for experimentation, its complexity makes debugging a nightmare. This is especially problematic when trying to troubleshoot issues in a production environment.\"\n",
    "\n",
    "24. \"Langchain's rapid updates, while meant to improve the framework, often lead to compatibility issues and increased maintenance overhead.\"\n",
    "\n",
    "25. \"The framework's inability to handle production-level requirements efficiently is a significant drawback. I found myself reverting to simpler, more transparent solutions like OpenAI's Python library.\"\n",
    "\n",
    "26. \"Langchain's learning curve is steep, largely due to its poor documentation. This makes it difficult for teams to adopt and use effectively.\"\n",
    "\n",
    "27. \"While Langchain offers many features, its lack of customizability often means you're stuck with implementations that don't quite fit your needs.\"\n",
    "\n",
    "28. \"The inconsistency in Langchain's API design is frustrating. It feels like different parts of the framework were developed in isolation without a unified vision.\"\n",
    "\n",
    "29. \"Langchain's approach to abstractions often feels like it's solving problems that don't exist while creating new ones in the process.\"\n",
    "\n",
    "30. \"For quick demos and POCs, Langchain shines. However, for any serious development work, its drawbacks in terms of performance, documentation, and consistency make it a poor choice.\"\"\""
   ]
  },
  {
   "cell_type": "code",
   "execution_count": 60,
   "metadata": {},
   "outputs": [],
   "source": [
    "pattern = r'(?:\\d+\\.\\s*)'\n",
    "review_list_claude = re.split(pattern, calude_review_text)\n",
    "review_list_claude = [review.strip()[1:-1] for review in review_list_claude if review.strip()]"
   ]
  },
  {
   "cell_type": "code",
   "execution_count": 61,
   "metadata": {},
   "outputs": [],
   "source": [
    "review_list += review_list_claude"
   ]
  },
  {
   "cell_type": "code",
   "execution_count": 62,
   "metadata": {},
   "outputs": [
    {
     "data": {
      "text/plain": [
       "60"
      ]
     },
     "execution_count": 62,
     "metadata": {},
     "output_type": "execute_result"
    }
   ],
   "source": [
    "len(review_list)"
   ]
  },
  {
   "cell_type": "code",
   "execution_count": 63,
   "metadata": {},
   "outputs": [],
   "source": [
    "with open(\"langchain_reviews.txt\", \"w\", encoding=\"utf-8\") as file:\n",
    "    for i, review in enumerate(review_list, 1):\n",
    "        file.write(f\"{review}\\n\")"
   ]
  },
  {
   "cell_type": "markdown",
   "metadata": {},
   "source": [
    "## Extract Graph"
   ]
  },
  {
   "cell_type": "code",
   "execution_count": 66,
   "metadata": {},
   "outputs": [],
   "source": [
    "with open(\"langchain_reviews.txt\", \"r\", encoding=\"utf-8\") as file:\n",
    "    reviews = file.readlines()"
   ]
  },
  {
   "cell_type": "code",
   "execution_count": 71,
   "metadata": {},
   "outputs": [
    {
     "name": "stdout",
     "output_type": "stream",
     "text": [
      "Great for beginners, Langchain helps newcomers get started with LLMs. However, the high-level abstractions add complexity, making it less suitable for production applications.\n"
     ]
    }
   ],
   "source": [
    "reviews = [review.strip() for review in reviews]\n",
    "print(reviews[3])"
   ]
  },
  {
   "cell_type": "code",
   "execution_count": null,
   "metadata": {},
   "outputs": [],
   "source": [
    "OPENAI_API_KEY = os.getenv(\"OPENAI_API_KEY\")"
   ]
  },
  {
   "cell_type": "code",
   "execution_count": 110,
   "metadata": {},
   "outputs": [],
   "source": [
    "from langchain_openai import ChatOpenAI\n",
    "from langchain_core.prompts import ChatPromptTemplate\n",
    "from langchain_core.pydantic_v1 import BaseModel, Field, ValidationError\n",
    "import enum\n",
    "from time import sleep\n",
    "\n",
    "class Labels(enum.Enum):\n",
    "    \"\"\"Labels for the topics of software tools\"\"\"\n",
    "    usefulness_for_prototyping = \"usefulness_for_prototyping\"\n",
    "    documentation_quality = \"documentation_quality\"\n",
    "    performance_and_efficiency = \"performance_and_efficiency\"\n",
    "    abstraction_layers = \"abstraction_layers\"\n",
    "    suitability_for_production = \"suitability_for_production\"\n",
    "    learning_curve = \"learning_curve\"\n",
    "    flexibility = \"flexibility\"\n",
    "    update_frequency_and_stability = \"update_frequency_and_stability\"\n",
    "    customization_and_control = \"customization_and_control\"\n",
    "    alternatives = \"alternatives\"\n",
    "    community_support = \"community_support\"\n",
    "    cost = \"cost\"\n",
    "    security = \"security\"\n",
    "    scalability = \"scalability\"\n",
    "    compatibility = \"compatibility\"\n",
    "    maintenance = \"maintenance\"\n",
    "    feature_completeness = \"feature_completeness\"\n",
    "    vendor_support = \"vendor_support\"\n",
    "    innovation = \"innovation\"\n",
    "\n",
    "class Sentiment(enum.Enum):\n",
    "    \"\"\"Sentiment expressed about topics\"\"\"\n",
    "    positive = \"positive\"\n",
    "    negative = \"negative\"\n",
    "    neutral = \"neutral\"\n",
    "\n",
    "\n",
    "class Topic(BaseModel):\n",
    "    \"\"\"Extracted topics\"\"\"\n",
    "\n",
    "    label: Labels = Field(description=\"The type of the topic\")\n",
    "    content: str = Field(description=\"The summarized content of the topic\")\n",
    "    sentiment: Sentiment = Field(description=\"The sentiment expressed about the topic\")\n",
    "\n",
    "class Topics(BaseModel):\n",
    "    \"\"\"Topics extracted from the review\"\"\"\n",
    "    topics: list[Topic] = Field(description=\"The list of extracted topics\")\n",
    "\n",
    "\n",
    "prompt = ChatPromptTemplate.from_template(\n",
    "    \"\"\"\n",
    "Extract the main topics from the review.\n",
    "---\n",
    "Here are some examples:\n",
    "\n",
    "review: 'Langchain is great for quick demos and experimentation. Its support for specific use cases like using quantized models with llama cpp is a plus. However, the documentation is horrendous, making it difficult to understand the framework.'\n",
    "topics: [\n",
    "    {{label: \"usefulness_for_prototyping\", content: \"Langchain is great for quick demos and experimentation.\", sentiment: \"positive\"}},\n",
    "    {{label: \"compatibility\", content: \"Its support for specific use cases like using quantized models with llama cpp is a plus.\", sentiment: \"positive\"}},\n",
    "    {{label: \"documentation_quality\", content: \"The documentation quality is not good making it difficult to understand the framework.\", sentiment: \"negative\"}},\n",
    "    ]\n",
    "\n",
    "review: While Langchain provides useful abstractions for specific use cases, its performance is slow and resource-intensive. Simple tasks take longer than they should, which is a significant drawback.\n",
    "topics: [\n",
    "    {{label: \"performance_and_efficiency\", content: \"its performance is slow and resource-intensive. Simple tasks take longer than they should, which is a significant drawback.\", sentiment: \"negative\"}},\n",
    "    {{label: \"abstraction_layers\", content: \"Langchain provides useful abstractions for specific use cases,\", sentiment: \"positive\"}},\n",
    "    ]\n",
    "\n",
    "review: Great for beginners, Langchain helps newcomers get started with LLMs. However, the high-level abstractions add complexity, making it less suitable for production applications.\n",
    "topics: [\n",
    "    {{label: \"learning_curve\", content: \"It's helpful for newcomers get started with LLMs.\", sentiment: \"positive\"}},\n",
    "    {{label: \"abstraction_layers\", content: \"The high-level abstractions add complexity, making it less suitable for production applications.\", sentiment: \"negative\"}}\n",
    "    {{label: \"suitability_for_production\", content: \"It's less suitable for production due to added complexity from abstractions.\", sentiment: \"negative\"}}\n",
    "]\n",
    "---\n",
    "Now it's your turn:\n",
    "review: {input}\n",
    "\"\"\"\n",
    ")\n",
    "api_key = os.getenv(\"OPENAI_API_KEY\")\n",
    "\n",
    "llm = ChatOpenAI(model=\"gpt-4o\", api_key=os.getenv(\"OPENAI_API_KEY\")).with_structured_output(\n",
    "    Topics\n",
    ")\n",
    "chain = prompt | llm \n",
    "\n",
    "\n",
    "def extract_main_topics(text, retries=3, delay=0.5):\n",
    "    attempt = 0\n",
    "    while attempt < retries:\n",
    "        try:\n",
    "            return chain.invoke({\"input\": text})\n",
    "        except ValidationError as e:\n",
    "            print(f\"ValidationError on attempt {attempt + 1}: {e}\")\n",
    "            attempt += 1\n",
    "            if attempt < retries:\n",
    "                print(f\"Retrying in {delay} seconds...\")\n",
    "                sleep(delay)\n",
    "            else:\n",
    "                print(\"Max retries reached. Skipping this text\")\n",
    "                return None"
   ]
  },
  {
   "cell_type": "code",
   "execution_count": 111,
   "metadata": {},
   "outputs": [
    {
     "name": "stdout",
     "output_type": "stream",
     "text": [
      "Processing review 53/60\n",
      "ValidationError on attempt 1: 1 validation error for Topics\n",
      "topics -> 1 -> label\n",
      "  value is not a valid enumeration member; permitted: 'usefulness_for_prototyping', 'documentation_quality', 'performance_and_efficiency', 'abstraction_layers', 'suitability_for_production', 'learning_curve', 'flexibility', 'update_frequency_and_stability', 'customization_and_control', 'alternatives', 'community_support', 'cost', 'security', 'scalability', 'compatibility', 'maintenance', 'feature_completeness', 'vendor_support', 'innovation' (type=type_error.enum; enum_values=[<Labels.usefulness_for_prototyping: 'usefulness_for_prototyping'>, <Labels.documentation_quality: 'documentation_quality'>, <Labels.performance_and_efficiency: 'performance_and_efficiency'>, <Labels.abstraction_layers: 'abstraction_layers'>, <Labels.suitability_for_production: 'suitability_for_production'>, <Labels.learning_curve: 'learning_curve'>, <Labels.flexibility: 'flexibility'>, <Labels.update_frequency_and_stability: 'update_frequency_and_stability'>, <Labels.customization_and_control: 'customization_and_control'>, <Labels.alternatives: 'alternatives'>, <Labels.community_support: 'community_support'>, <Labels.cost: 'cost'>, <Labels.security: 'security'>, <Labels.scalability: 'scalability'>, <Labels.compatibility: 'compatibility'>, <Labels.maintenance: 'maintenance'>, <Labels.feature_completeness: 'feature_completeness'>, <Labels.vendor_support: 'vendor_support'>, <Labels.innovation: 'innovation'>])\n",
      "Retrying in 0.5 seconds...\n",
      "ValidationError on attempt 2: 1 validation error for Topics\n",
      "topics -> 1 -> label\n",
      "  value is not a valid enumeration member; permitted: 'usefulness_for_prototyping', 'documentation_quality', 'performance_and_efficiency', 'abstraction_layers', 'suitability_for_production', 'learning_curve', 'flexibility', 'update_frequency_and_stability', 'customization_and_control', 'alternatives', 'community_support', 'cost', 'security', 'scalability', 'compatibility', 'maintenance', 'feature_completeness', 'vendor_support', 'innovation' (type=type_error.enum; enum_values=[<Labels.usefulness_for_prototyping: 'usefulness_for_prototyping'>, <Labels.documentation_quality: 'documentation_quality'>, <Labels.performance_and_efficiency: 'performance_and_efficiency'>, <Labels.abstraction_layers: 'abstraction_layers'>, <Labels.suitability_for_production: 'suitability_for_production'>, <Labels.learning_curve: 'learning_curve'>, <Labels.flexibility: 'flexibility'>, <Labels.update_frequency_and_stability: 'update_frequency_and_stability'>, <Labels.customization_and_control: 'customization_and_control'>, <Labels.alternatives: 'alternatives'>, <Labels.community_support: 'community_support'>, <Labels.cost: 'cost'>, <Labels.security: 'security'>, <Labels.scalability: 'scalability'>, <Labels.compatibility: 'compatibility'>, <Labels.maintenance: 'maintenance'>, <Labels.feature_completeness: 'feature_completeness'>, <Labels.vendor_support: 'vendor_support'>, <Labels.innovation: 'innovation'>])\n",
      "Retrying in 0.5 seconds...\n",
      "ValidationError on attempt 3: 1 validation error for Topics\n",
      "topics -> 1 -> label\n",
      "  value is not a valid enumeration member; permitted: 'usefulness_for_prototyping', 'documentation_quality', 'performance_and_efficiency', 'abstraction_layers', 'suitability_for_production', 'learning_curve', 'flexibility', 'update_frequency_and_stability', 'customization_and_control', 'alternatives', 'community_support', 'cost', 'security', 'scalability', 'compatibility', 'maintenance', 'feature_completeness', 'vendor_support', 'innovation' (type=type_error.enum; enum_values=[<Labels.usefulness_for_prototyping: 'usefulness_for_prototyping'>, <Labels.documentation_quality: 'documentation_quality'>, <Labels.performance_and_efficiency: 'performance_and_efficiency'>, <Labels.abstraction_layers: 'abstraction_layers'>, <Labels.suitability_for_production: 'suitability_for_production'>, <Labels.learning_curve: 'learning_curve'>, <Labels.flexibility: 'flexibility'>, <Labels.update_frequency_and_stability: 'update_frequency_and_stability'>, <Labels.customization_and_control: 'customization_and_control'>, <Labels.alternatives: 'alternatives'>, <Labels.community_support: 'community_support'>, <Labels.cost: 'cost'>, <Labels.security: 'security'>, <Labels.scalability: 'scalability'>, <Labels.compatibility: 'compatibility'>, <Labels.maintenance: 'maintenance'>, <Labels.feature_completeness: 'feature_completeness'>, <Labels.vendor_support: 'vendor_support'>, <Labels.innovation: 'innovation'>])\n",
      "Max retries reached. Skipping this text\n",
      "No topics found for review index  52\n",
      "Processing review 54/60\n",
      "Processing review 55/60\n",
      "Processing review 56/60\n",
      "Processing review 57/60\n",
      "Processing review 58/60\n",
      "Processing review 59/60\n",
      "Processing review 60/60\n"
     ]
    }
   ],
   "source": [
    "# topic_list = []\n",
    "for i, review in enumerate(reviews):\n",
    "    if i+1 < 53:\n",
    "        continue\n",
    "    print(f\"Processing review {i + 1}/{len(reviews)}\")\n",
    "    topics = extract_main_topics(review)\n",
    "    if not topics:\n",
    "        print(\"No topics found for review index \", i)\n",
    "        continue\n",
    "    topic_list.append(topics)"
   ]
  },
  {
   "cell_type": "code",
   "execution_count": 112,
   "metadata": {},
   "outputs": [
    {
     "name": "stdout",
     "output_type": "stream",
     "text": [
      "59\n"
     ]
    }
   ],
   "source": [
    "print(len(topic_list))\n"
   ]
  },
  {
   "cell_type": "code",
   "execution_count": 113,
   "metadata": {},
   "outputs": [],
   "source": [
    "reviews_with_topics = []\n",
    "for idx, topics in enumerate(topic_list):\n",
    "    review = {\"topics\": [], \"review_text\": reviews[idx]}\n",
    "    for topic in topics.topics:\n",
    "        review[\"topics\"].append(\n",
    "            {\n",
    "                \"label\": topic.label.value,\n",
    "                \"content\": topic.content,\n",
    "                \"sentiment\": topic.sentiment.value,\n",
    "            }\n",
    "        )\n",
    "    reviews_with_topics.append(review)\n"
   ]
  },
  {
   "cell_type": "code",
   "execution_count": 116,
   "metadata": {},
   "outputs": [
    {
     "data": {
      "text/plain": [
       "{'topics': [{'label': 'usefulness_for_prototyping',\n",
       "   'content': 'For quick demos and POCs, Langchain shines.',\n",
       "   'sentiment': 'positive'},\n",
       "  {'label': 'performance_and_efficiency',\n",
       "   'content': 'Its drawbacks in terms of performance make it a poor choice for serious development work.',\n",
       "   'sentiment': 'negative'},\n",
       "  {'label': 'documentation_quality',\n",
       "   'content': 'Its drawbacks in terms of documentation make it a poor choice for serious development work.',\n",
       "   'sentiment': 'negative'},\n",
       "  {'label': 'update_frequency_and_stability',\n",
       "   'content': 'Its drawbacks in terms of consistency make it a poor choice for serious development work.',\n",
       "   'sentiment': 'negative'}],\n",
       " 'review_text': \"Langchain's approach to abstractions often feels like it's solving problems that don't exist while creating new ones in the process.\"}"
      ]
     },
     "execution_count": 116,
     "metadata": {},
     "output_type": "execute_result"
    }
   ],
   "source": [
    "reviews_with_topics[58]"
   ]
  },
  {
   "cell_type": "code",
   "execution_count": 117,
   "metadata": {},
   "outputs": [],
   "source": [
    "import json\n",
    "\n",
    "# save to csv\n",
    "with open(\"langchain_review_topic.json\", \"w\") as file:\n",
    "    json.dump(reviews_with_topics, file)\n",
    "\n",
    "# load the topics\n",
    "with open(\"langchain_review_topic.json\") as file:\n",
    "    reviews_with_topics = json.load(file)"
   ]
  },
  {
   "cell_type": "code",
   "execution_count": 119,
   "metadata": {},
   "outputs": [
    {
     "name": "stdout",
     "output_type": "stream",
     "text": [
      "==>> topics_list: {'topics': [{'label': 'usefulness_for_prototyping', 'content': 'For quick demos and POCs, Langchain shines.', 'sentiment': 'positive'}, {'label': 'performance_and_efficiency', 'content': 'Its drawbacks in terms of performance make it a poor choice for serious development work.', 'sentiment': 'negative'}, {'label': 'documentation_quality', 'content': 'Its drawbacks in terms of documentation make it a poor choice for serious development work.', 'sentiment': 'negative'}, {'label': 'update_frequency_and_stability', 'content': 'Its drawbacks in terms of consistency make it a poor choice for serious development work.', 'sentiment': 'negative'}], 'review_text': \"Langchain's approach to abstractions often feels like it's solving problems that don't exist while creating new ones in the process.\"}\n"
     ]
    }
   ],
   "source": [
    "print(f\"==>> topics_list: {reviews_with_topics[58]}\")"
   ]
  },
  {
   "cell_type": "markdown",
   "metadata": {},
   "source": [
    "## Create a knowledge graph using Cyper and post it to Neo4j cloud"
   ]
  },
  {
   "cell_type": "code",
   "execution_count": 120,
   "metadata": {},
   "outputs": [],
   "source": [
    "import pendulum\n",
    "import random\n",
    "\n",
    "URI = os.getenv(\"NEO4J_URL\")\n",
    "AUTH = (os.getenv(\"NEO4J_USERNAME\"), os.getenv(\"NEO4J_PASSWORD\"))\n",
    "\n",
    "with GraphDatabase.driver(URI, auth=AUTH) as driver:\n",
    "    with driver.session(database=\"neo4j\") as session:\n",
    "        session.run(\"MATCH (n) DETACH DELETE n\")\n",
    "        for idx, review in enumerate(reviews_with_topics):\n",
    "\n",
    "            vendor_name = \"langchain\"\n",
    "            result = session.run(\n",
    "                f\"\"\"\n",
    "                        MERGE (s:Vendor {{name: $vendor_name}}) \n",
    "                        MERGE (p:User{{user_id: $user_id}})\n",
    "                        \"\"\",\n",
    "                vendor_name=vendor_name,\n",
    "                user_id=idx\n",
    "            )\n",
    "            session.run(\n",
    "                \"\"\"CREATE CONSTRAINT id IF NOT EXISTS \n",
    "                    FOR (rev:Review) REQUIRE rev.id IS UNIQUE\n",
    "                    \"\"\"\n",
    "            )\n",
    "            session.run(\n",
    "                \"\"\"CREATE CONSTRAINT user_id IF NOT EXISTS \n",
    "                    FOR (p:User) REQUIRE p.user_id IS UNIQUE\n",
    "                    \"\"\"\n",
    "            )\n",
    "            \n",
    "            cypher_query = f\"\"\"\n",
    "            MATCH (s:Vendor {{name: $vendor_name}})\n",
    "            MATCH (p:User {{user_id: $user_id}})\n",
    "            MERGE (rev:Review {{id: $idx, published_date: $published_date, content: $review_text}})\n",
    "            MERGE (s)-[:HAS_REVIEW]->(rev)\n",
    "            MERGE (p)-[:WROTE]->(rev)\n",
    "            \"\"\"\n",
    "            session.run(\n",
    "                cypher_query,\n",
    "                idx=idx,\n",
    "                vendor_name=vendor_name,\n",
    "                user_id=idx,\n",
    "                published_date=pendulum.date(2024, random.randint(1, 12), random.randint(1, 28)).to_date_string(),\n",
    "                review_text=review[\"review_text\"],\n",
    "            )\n",
    "\n",
    "            for topic in review[\"topics\"]:\n",
    "\n",
    "                cypher_query = f\"\"\"\n",
    "                MATCH (s:Vendor {{name: $vendor_name}})-[:HAS_REVIEW]->(rev:Review {{id: $idx}})\n",
    "                MERGE (rev)-[:HAS_TOPIC]->(t:Topic {{type: $label, content: $content, sentiment: $sentiment}})\n",
    "                \"\"\"\n",
    "                session.run(\n",
    "                    cypher_query,\n",
    "                    idx=idx,\n",
    "                    label=topic[\"label\"],\n",
    "                    vendor_name=vendor_name,\n",
    "                    content=topic[\"content\"],\n",
    "                    sentiment=topic[\"sentiment\"],\n",
    "                )"
   ]
  }
 ],
 "metadata": {
  "kernelspec": {
   "display_name": "survey_buddy",
   "language": "python",
   "name": "python3"
  },
  "language_info": {
   "codemirror_mode": {
    "name": "ipython",
    "version": 3
   },
   "file_extension": ".py",
   "mimetype": "text/x-python",
   "name": "python",
   "nbconvert_exporter": "python",
   "pygments_lexer": "ipython3",
   "version": "3.12.2"
  }
 },
 "nbformat": 4,
 "nbformat_minor": 2
}
